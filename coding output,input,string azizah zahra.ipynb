{
 "cells": [
  {
   "cell_type": "code",
   "execution_count": 2,
   "id": "20dc4565",
   "metadata": {},
   "outputs": [
    {
     "name": "stdout",
     "output_type": "stream",
     "text": [
      "Masukan Nama anda: Nurazizah zahra\n",
      "Masukan Nama kelas Anda: TI22H\n",
      "Masukan Alamat Anda: Jln.tipar\n",
      "Masukan Hobi Anda: bernyanyi\n",
      "nama saya Nurazizah zahra, dari kelas TI22H , alamat di Jln.tipar ,hobi saya bernyanyi , sekian terimakasih\n"
     ]
    }
   ],
   "source": [
    "nama = input('Masukan Nama anda: ')\n",
    "kelas = input('Masukan Nama kelas Anda: ')\n",
    "alamat = input('Masukan Alamat Anda: ')\n",
    "hobi = input('Masukan Hobi Anda: ')\n",
    "print('nama saya {}, dari kelas {} , alamat di {} ,hobi saya {} , sekian terimakasih'.format(nama, kelas, alamat, hobi))"
   ]
  },
  {
   "cell_type": "code",
   "execution_count": 16,
   "id": "1f880e9e",
   "metadata": {},
   "outputs": [
    {
     "name": "stdout",
     "output_type": "stream",
     "text": [
      "putra nusa\n",
      "NIVERSITAS NSA PTRA SKABMI\n",
      "SUKABUMI PUTRA NUSA UNIVERSITAS\n",
      "UNPS\n",
      "TAS SAPU BUMI\n"
     ]
    }
   ],
   "source": [
    "kalimat = 'UNIVERSITAS NUSA PUTRA SUKABUMI'\n",
    "print(kalimat[17:22].lower(),kalimat[12:16].lower()) \n",
    "print(kalimat[1:11],kalimat[12]+kalimat[14:16],kalimat[17]+kalimat[19:22],kalimat[23]+kalimat[25:28]+kalimat[29:31]) \n",
    "print(kalimat[23:31],kalimat[17:22],kalimat[12:16],kalimat[0:11])\n",
    "print(kalimat[0]+kalimat[12]+kalimat[17]+kalimat[23])\n",
    "print(kalimat[8:11],kalimat[14:16]+kalimat[17:19],kalimat[27:31])\n"
   ]
  }
 ],
 "metadata": {
  "kernelspec": {
   "display_name": "Python 3 (ipykernel)",
   "language": "python",
   "name": "python3"
  },
  "language_info": {
   "codemirror_mode": {
    "name": "ipython",
    "version": 3
   },
   "file_extension": ".py",
   "mimetype": "text/x-python",
   "name": "python",
   "nbconvert_exporter": "python",
   "pygments_lexer": "ipython3",
   "version": "3.9.12"
  }
 },
 "nbformat": 4,
 "nbformat_minor": 5
}
